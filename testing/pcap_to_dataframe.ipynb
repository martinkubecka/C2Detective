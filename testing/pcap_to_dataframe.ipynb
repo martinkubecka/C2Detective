{
 "cells": [
  {
   "cell_type": "code",
   "execution_count": null,
   "metadata": {},
   "outputs": [],
   "source": [
    "from scapy.all import * # Packet manipulation\n",
    "import pandas as pd # Pandas - Create and Manipulate DataFrames\n",
    "import numpy as np # Math Stuff (don't worry only used for one line :] )\n",
    "import binascii # Binary to Ascii \n",
    "# import seaborn as sns\n",
    "# sns.set(col1or_codes=True)\n",
    "# %matplotlib inline\n",
    "\n",
    "'''Use common fields in IP Packet to perform exploratory analysis on PCAP'''"
   ]
  },
  {
   "cell_type": "code",
   "execution_count": null,
   "metadata": {},
   "outputs": [],
   "source": [
    "# rdpcap used to Read Pcap\n",
    "pcap = rdpcap('samples/icedid.pcap')\n",
    "pcap"
   ]
  },
  {
   "cell_type": "code",
   "execution_count": null,
   "metadata": {},
   "outputs": [],
   "source": [
    "\"\"\"\n",
    "0                   1                   2                   3\n",
    "0 1 2 3 4 5 6 7 8 9 0 1 2 3 4 5 6 7 8 9 0 1 2 3 4 5 6 7 8 9 0 1\n",
    "+-+-+-+-+-+-+-+-+-+-+-+-+-+-+-+-+-+-+-+-+-+-+-+-+-+-+-+-+-+-+-+-+\n",
    "|          Source Port          |       Destination Port        |\n",
    "+-+-+-+-+-+-+-+-+-+-+-+-+-+-+-+-+-+-+-+-+-+-+-+-+-+-+-+-+-+-+-+-+\n",
    "|                        Sequence Number                        |\n",
    "+-+-+-+-+-+-+-+-+-+-+-+-+-+-+-+-+-+-+-+-+-+-+-+-+-+-+-+-+-+-+-+-+\n",
    "|                    Acknowledgment Number                      |\n",
    "+-+-+-+-+-+-+-+-+-+-+-+-+-+-+-+-+-+-+-+-+-+-+-+-+-+-+-+-+-+-+-+-+\n",
    "|  Data |           |U|A|P|R|S|F|                               |\n",
    "| Offset| Reserved  |R|C|S|S|Y|I|            Window             |\n",
    "|       |           |G|K|H|T|N|N|                               |\n",
    "+-+-+-+-+-+-+-+-+-+-+-+-+-+-+-+-+-+-+-+-+-+-+-+-+-+-+-+-+-+-+-+-+\n",
    "|           Checksum            |         Urgent Pointer        |\n",
    "+-+-+-+-+-+-+-+-+-+-+-+-+-+-+-+-+-+-+-+-+-+-+-+-+-+-+-+-+-+-+-+-+\n",
    "|                    Options                    |    Padding    |\n",
    "+-+-+-+-+-+-+-+-+-+-+-+-+-+-+-+-+-+-+-+-+-+-+-+-+-+-+-+-+-+-+-+-+\n",
    "|                             data                              |\n",
    "+-+-+-+-+-+-+-+-+-+-+-+-+-+-+-+-+-+-+-+-+-+-+-+-+-+-+-+-+-+-+-+-+\n",
    "02 04 05 a0 01 03 03 05 01 01 08 0a 1d 74 65 c5 00 00 00 00 04 02 00 00\n",
    "\"\"\"\n",
    "\n",
    "# Frames/Packets/Segments all consists of fields\n",
    "print()"
   ]
  },
  {
   "cell_type": "markdown",
   "metadata": {},
   "source": [
    "## Exploring an item in packet list"
   ]
  },
  {
   "cell_type": "code",
   "execution_count": null,
   "metadata": {},
   "outputs": [],
   "source": [
    "# ETHERNET -> Internet Protocol -> Layer 4 Segments\n",
    "# We're only interested in Layers 3 (IP) and 4 (TCP AND UDP) \n",
    "## We'll parse those two layers and the layer 4 payload\n",
    "## When capturing we capture layer 2 frames and beyond\n",
    "\n",
    "# Retrieving a single item from packet list\n",
    "ethernet_frame = pcap[31]\n",
    "ip_packet = ethernet_frame.payload\n",
    "segment = ip_packet.payload\n",
    "data = segment.payload # Retrieve payload that comes after layer 4\n",
    "\n",
    "# Observe that we just popped off previous layer header\n",
    "print(ethernet_frame.summary())\n",
    "print(ip_packet.summary())\n",
    "print(segment.summary())\n",
    "print(data.summary()) # If blank, empty object\n",
    "print(\"---------- Complete depiction of a packet ----------\")\n",
    "\n",
    "# Complete depiction of paket\n",
    "## Achieving understanding that these are the fields will enable the ability \n",
    "## to ask the data more meaningful questions ie) type of layer 4 segment is defined in layer 3 packet\n",
    "ethernet_frame.show()"
   ]
  },
  {
   "cell_type": "code",
   "execution_count": null,
   "metadata": {},
   "outputs": [],
   "source": [
    "# # Understanding the object types in scapy\n",
    "# print(type(ethernet_frame))\n",
    "# print(type(ip_packet))\n",
    "# print(type(segment))\n",
    "\n",
    "# # Packets can be filtered on layers ie) ethernet_frame[scapy.layers.l2.Ether]\n",
    "# ethernet_type = type(ethernet_frame)\n",
    "# ip_type = type(ip_packet)\n",
    "# tcp_type = type(segment)\n",
    "# print(\"Ethernet\",pcap[ethernet_type])\n",
    "# print(\"IP\", pcap[ip_type])\n",
    "# print(\"TCP\", pcap[tcp_type])\n",
    "\n",
    "# # Scapy provides this via import statements\n",
    "# from scapy.layers.l2 import Ether\n",
    "# from scapy.layers.inet import IP\n",
    "# from scapy.layers.inet import TCP, UDP\n",
    "\n",
    "# print(\"UDP\", pcap[UDP])"
   ]
  },
  {
   "cell_type": "markdown",
   "metadata": {},
   "source": [
    "## Convert PCAP to DataFrame\n"
   ]
  },
  {
   "cell_type": "code",
   "execution_count": null,
   "metadata": {},
   "outputs": [],
   "source": [
    "# Collect field names from IP/TCP/UDP (These will be columns in DF)\n",
    "ip_fields = [field.name for field in IP().fields_desc]\n",
    "tcp_fields = [field.name for field in TCP().fields_desc]\n",
    "udp_fields = [field.name for field in UDP().fields_desc]\n",
    "\n",
    "# ['version', 'ihl', 'tos', 'len', 'id', 'flags', 'frag', 'ttl', 'proto', 'chksum', 'src', 'dst', 'options', 'time', 'sport', 'dport', 'seq', 'ack', 'dataofs', 'reserved', 'flags', 'window', 'chksum', 'urgptr', 'options', 'payload', 'payload_raw', 'payload_hex']\n",
    "dataframe_fields = ip_fields + ['time'] + tcp_fields + ['payload','payload_raw','payload_hex']\n",
    "# print(dataframe_fields)\n",
    "\n",
    "\n",
    "# Create blank DataFrame\n",
    "df = pd.DataFrame(columns=dataframe_fields)\n",
    "for packet in pcap[IP]:\n",
    "    # Field array for each row of DataFrame\n",
    "    field_values = []\n",
    "    # Add all IP fields to dataframe\n",
    "    for field in ip_fields:\n",
    "        if field == 'options':\n",
    "            # Retrieving number of options defined in IP Header\n",
    "            field_values.append(len(packet[IP].fields[field]))\n",
    "        else:\n",
    "            field_values.append(packet[IP].fields[field])\n",
    "    \n",
    "    field_values.append(packet.time)\n",
    "    \n",
    "    layer_type = type(packet[IP].payload)\n",
    "    # print(layer_type)\n",
    "    for field in tcp_fields:\n",
    "        try:\n",
    "            if field == 'options':\n",
    "                field_values.append(len(packet[layer_type].fields[field]))\n",
    "            else:\n",
    "                field_values.append(packet[layer_type].fields[field])\n",
    "        except:\n",
    "            field_values.append(None)\n",
    "    \n",
    "    # Append payload\n",
    "    field_values.append(len(packet[layer_type].payload))\n",
    "    field_values.append(packet[layer_type].payload.original)\n",
    "    field_values.append(binascii.hexlify(packet[layer_type].payload.original))\n",
    "    # Add row to DF\n",
    "    df_append = pd.DataFrame([field_values], columns=dataframe_fields)\n",
    "    df = pd.concat([df, df_append], axis=0)\n",
    "\n",
    "# Reset Index\n",
    "df = df.reset_index()\n",
    "# Drop old index column\n",
    "df = df.drop(columns=\"index\")"
   ]
  },
  {
   "cell_type": "code",
   "execution_count": null,
   "metadata": {},
   "outputs": [],
   "source": [
    "# len(df)\n",
    "# df.info\n",
    "df['src'].describe()"
   ]
  },
  {
   "cell_type": "markdown",
   "metadata": {},
   "source": [
    "### DataFrame Basics"
   ]
  },
  {
   "cell_type": "code",
   "execution_count": null,
   "metadata": {},
   "outputs": [],
   "source": [
    "# Retrieve first row from DataFrame\n",
    "# print(df.iloc[0])\n",
    "\n",
    "print(df.shape)\n",
    "\n",
    "# Return first 5 rows\n",
    "df.head()\n",
    "\n",
    "# Return last 5 rows\n",
    "df.tail()\n",
    "\n",
    "# Return the Source Address for all rows\n",
    "df['src']\n",
    "\n",
    "# Return Src Address, Dst Address, Src Port, Dst Port\n",
    "df[['src','dst','sport','dport']]"
   ]
  },
  {
   "cell_type": "markdown",
   "metadata": {},
   "source": [
    "## Statistics"
   ]
  },
  {
   "cell_type": "code",
   "execution_count": null,
   "metadata": {},
   "outputs": [],
   "source": [
    "# Top Source Adddress\n",
    "print(\"# Top Source Address\")\n",
    "print(df['src'].describe(),'\\n\\n')\n",
    "\n",
    "# Top Destination Address\n",
    "print(\"# Top Destination Address\")\n",
    "print(df['dst'].describe(),\"\\n\\n\")\n",
    "\n",
    "frequent_address = df['src'].describe()['top']\n",
    "\n",
    "# Who is the top address speaking to\n",
    "print(\"# Who is Top Address Speaking to?\")\n",
    "print(df[df['src'] == frequent_address]['dst'].unique(),\"\\n\\n\")\n",
    "\n",
    "# Who is the top address speaking to (dst ports)\n",
    "print(\"# Who is the top address speaking to (Destination Ports)\")\n",
    "print(df[df['src'] == frequent_address]['dport'].unique(),\"\\n\\n\")\n",
    "\n",
    "# Who is the top address speaking to (src ports)\n",
    "print(\"# Who is the top address speaking to (Source Ports)\")\n",
    "print(df[df['src'] == frequent_address]['sport'].unique(),\"\\n\\n\")"
   ]
  },
  {
   "cell_type": "code",
   "execution_count": null,
   "metadata": {},
   "outputs": [],
   "source": [
    "from ipaddress import ip_address\n"
   ]
  },
  {
   "cell_type": "code",
   "execution_count": null,
   "metadata": {},
   "outputs": [],
   "source": [
    "print(\"Unique Source Addresses\")\n",
    "unique_src_addresses = df['src'].unique()\n",
    "unique_src_addresses = unique_src_addresses.tolist()\n",
    "\n",
    "external_src_addresses = []\n",
    "for adr in unique_src_addresses:\n",
    "    if not ip_address(adr).is_private:\n",
    "        external_src_addresses.append(adr)\n",
    "\n",
    "for src in external_src_addresses:\n",
    "    print(src)\n"
   ]
  },
  {
   "cell_type": "code",
   "execution_count": null,
   "metadata": {},
   "outputs": [],
   "source": [
    "print(\"Unique Destination Addresses\")\n",
    "unique_dst_addresses = df['dst'].unique()\n",
    "unique_dst_addresses = unique_dst_addresses.tolist()\n",
    "\n",
    "external_dest_addresses = []\n",
    "for adr in unique_dst_addresses:\n",
    "    if not ip_address(adr).is_private:\n",
    "        external_dest_addresses.append(adr)\n",
    "\n",
    "for ext in external_dest_addresses:\n",
    "    print(ext)"
   ]
  }
 ],
 "metadata": {
  "kernelspec": {
   "display_name": "Python 3",
   "language": "python",
   "name": "python3"
  },
  "language_info": {
   "codemirror_mode": {
    "name": "ipython",
    "version": 3
   },
   "file_extension": ".py",
   "mimetype": "text/x-python",
   "name": "python",
   "nbconvert_exporter": "python",
   "pygments_lexer": "ipython3",
   "version": "3.10.8 (main, Oct 12 2022, 00:00:00) [GCC 12.2.1 20220819 (Red Hat 12.2.1-2)]"
  },
  "orig_nbformat": 4,
  "vscode": {
   "interpreter": {
    "hash": "767d51c1340bd893661ea55ea3124f6de3c7a262a8b4abca0554b478b1e2ff90"
   }
  }
 },
 "nbformat": 4,
 "nbformat_minor": 2
}

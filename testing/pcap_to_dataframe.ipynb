{
 "cells": [
  {
   "cell_type": "code",
   "execution_count": 1,
   "metadata": {},
   "outputs": [
    {
     "data": {
      "text/plain": [
       "'Use common fields in IP Packet to perform exploratory analysis on PCAP'"
      ]
     },
     "execution_count": 1,
     "metadata": {},
     "output_type": "execute_result"
    }
   ],
   "source": [
    "from scapy.all import * # Packet manipulation\n",
    "import pandas as pd # Pandas - Create and Manipulate DataFrames\n",
    "import numpy as np # Math Stuff (don't worry only used for one line :] )\n",
    "import binascii # Binary to Ascii \n",
    "# import seaborn as sns\n",
    "# sns.set(col1or_codes=True)\n",
    "# %matplotlib inline\n",
    "\n",
    "'''Use common fields in IP Packet to perform exploratory analysis on PCAP'''"
   ]
  },
  {
   "cell_type": "code",
   "execution_count": 2,
   "metadata": {},
   "outputs": [
    {
     "data": {
      "text/plain": [
       "<icedid.pcap: TCP:5179 UDP:374 ICMP:0 Other:254>"
      ]
     },
     "execution_count": 2,
     "metadata": {},
     "output_type": "execute_result"
    }
   ],
   "source": [
    "# rdpcap used to Read Pcap\n",
    "pcap = rdpcap('samples/icedid.pcap')\n",
    "pcap"
   ]
  },
  {
   "cell_type": "code",
   "execution_count": 3,
   "metadata": {},
   "outputs": [
    {
     "name": "stdout",
     "output_type": "stream",
     "text": [
      "\n"
     ]
    }
   ],
   "source": [
    "\"\"\"\n",
    "0                   1                   2                   3\n",
    "0 1 2 3 4 5 6 7 8 9 0 1 2 3 4 5 6 7 8 9 0 1 2 3 4 5 6 7 8 9 0 1\n",
    "+-+-+-+-+-+-+-+-+-+-+-+-+-+-+-+-+-+-+-+-+-+-+-+-+-+-+-+-+-+-+-+-+\n",
    "|          Source Port          |       Destination Port        |\n",
    "+-+-+-+-+-+-+-+-+-+-+-+-+-+-+-+-+-+-+-+-+-+-+-+-+-+-+-+-+-+-+-+-+\n",
    "|                        Sequence Number                        |\n",
    "+-+-+-+-+-+-+-+-+-+-+-+-+-+-+-+-+-+-+-+-+-+-+-+-+-+-+-+-+-+-+-+-+\n",
    "|                    Acknowledgment Number                      |\n",
    "+-+-+-+-+-+-+-+-+-+-+-+-+-+-+-+-+-+-+-+-+-+-+-+-+-+-+-+-+-+-+-+-+\n",
    "|  Data |           |U|A|P|R|S|F|                               |\n",
    "| Offset| Reserved  |R|C|S|S|Y|I|            Window             |\n",
    "|       |           |G|K|H|T|N|N|                               |\n",
    "+-+-+-+-+-+-+-+-+-+-+-+-+-+-+-+-+-+-+-+-+-+-+-+-+-+-+-+-+-+-+-+-+\n",
    "|           Checksum            |         Urgent Pointer        |\n",
    "+-+-+-+-+-+-+-+-+-+-+-+-+-+-+-+-+-+-+-+-+-+-+-+-+-+-+-+-+-+-+-+-+\n",
    "|                    Options                    |    Padding    |\n",
    "+-+-+-+-+-+-+-+-+-+-+-+-+-+-+-+-+-+-+-+-+-+-+-+-+-+-+-+-+-+-+-+-+\n",
    "|                             data                              |\n",
    "+-+-+-+-+-+-+-+-+-+-+-+-+-+-+-+-+-+-+-+-+-+-+-+-+-+-+-+-+-+-+-+-+\n",
    "02 04 05 a0 01 03 03 05 01 01 08 0a 1d 74 65 c5 00 00 00 00 04 02 00 00\n",
    "\"\"\"\n",
    "\n",
    "# Frames/Packets/Segments all consists of fields\n",
    "print()"
   ]
  },
  {
   "cell_type": "markdown",
   "metadata": {},
   "source": [
    "## Exploring an item in packet list"
   ]
  },
  {
   "cell_type": "code",
   "execution_count": 4,
   "metadata": {},
   "outputs": [
    {
     "name": "stdout",
     "output_type": "stream",
     "text": [
      "Ether / IP / TCP 137.184.114.20:http > 10.9.23.101:58592 A / Raw\n",
      "IP / TCP 137.184.114.20:http > 10.9.23.101:58592 A / Raw\n",
      "TCP 137.184.114.20:http > 10.9.23.101:58592 A / Raw\n",
      "Raw\n",
      "---------- Complete depiction of a packet ----------\n",
      "###[ Ethernet ]### \n",
      "  dst       = 00:0e:53:07:f5:22\n",
      "  src       = 00:03:a0:e7:d7:61\n",
      "  type      = IPv4\n",
      "###[ IP ]### \n",
      "     version   = 4\n",
      "     ihl       = 5\n",
      "     tos       = 0x0\n",
      "     len       = 1500\n",
      "     id        = 34633\n",
      "     flags     = \n",
      "     frag      = 0\n",
      "     ttl       = 128\n",
      "     proto     = tcp\n",
      "     chksum    = 0x9098\n",
      "     src       = 137.184.114.20\n",
      "     dst       = 10.9.23.101\n",
      "     \\options   \\\n",
      "###[ TCP ]### \n",
      "        sport     = http\n",
      "        dport     = 58592\n",
      "        seq       = 1278967658\n",
      "        ack       = 3213422612\n",
      "        dataofs   = 5\n",
      "        reserved  = 0\n",
      "        flags     = A\n",
      "        window    = 64240\n",
      "        chksum    = 0x142e\n",
      "        urgptr    = 0\n",
      "        options   = []\n",
      "###[ Raw ]### \n",
      "           load      = '\\x03\\\\xd8\\\\xeeqZ7N\\\\xd6^\\n@_y\\\\xaf\\\\x8c\\x0c\\\\xab\\\\x98\\x08v\\\\xca\\x0c\\x13\\\\x9b\\\\xda,O\\\\xe2\\\\xbbN 4-$\\\\xb2\\x1a\\\\xca˰\\x07\\\\xbf\\x12\\\\xef\\\\xfa\\\\xf4\\\\xa1$G\\\\xeac\\\\xd1\\\\xd8\\\\xe4ʟ\\x04\\x08~.{\\x1c\\'\\\\xebZ\\\\xe1\\x19\\\\x84\\x1c<{Q|\\\\xec\\x15@y\\\\x87\\\\xcaZ\\\\xafj\\x1b\\\\xf9\\\\xb6yL\\x03\\\\xd2\\\\xdeX\\\\x80λfP-\\\\xe2٩\\x02\\\\xfe4\\\\x95\\\\xb8\\\\xec\\\\xc7\\\\xf3\\\\xbe&_\\x1c\\x00\\\\xf1\\\\xdf\\x1f\\\\xce\\\\xeex\\\\xb0Jި\\\\xdf\\\\xc6,L\\\\x8d\\\\xbfc4\\\\xb1\\\\xe7\\\\x89\\\\xd56g\\\\xca\\n\\\\xc4%\\\\xb2~V\\\\xc5,*\\\\x84\\x193\\\\x83\\\\xcc \\\\xfb\\\\x8d_\\\\x98\\\\xb6^8\\\\x80\\x125\\x14[m\\x19\\\\x83\\\\xdbT\\x1c\\t*&Z\\\\\\\\xfe\\\\x8cq\\\\xbeqCg\\u05cc\\\\x92|\\x08\\\\xbc\\\\xfb\\\\xb4\\\\x86\\\\xa8\\\\xaf\\x7fE\\\\xb0\\\\xe1\\\\xfbP\\x1d\\\\x8e\\\\xbeʳ\\x19\\\\x89\\\\xa9\\\\x840\\\\xe9\\x02\\x02\\\\xd1\\\\xf9\\\\xae\\x1e\\\\xba\\ue087\\\\x8a6\\x1f\\\\xb0\\\\xa9\\\\xb9\\\\xa9\\\\xae&nF\\\\xe9W|\\\\\\x0fȥ\\\\xfc\\\\x8d\\x08\\\\xd7\\x02,\\x19\\\\xfd\\\\x8a\\\\xed>ڞ\\\\xa5\\\\xbdK\\\\xff\\\\x85\\\\x9cv\\\\xf1B\\'\\\\xd9;\\\\x8e\\\\xdem\\\\xa1\\\\xfd\\x14ю&;\\\\xc0\\\\%\\\\xef\\'\\\\xb7\\\\xa3G\\\\xc6\\\\xf1\\\\x8e\\\\xc0C\\\\x92\\\\xf5\\\\x99)\\x15\\\\x99\\\\xc5\\r\\\\xf1\\\\xa8Ml\\\\x93\\n\\\\xaf\\\\x96\\\\xf5\\\\xfe\\\\xad[IRN\\\\xae\\x18\\\\xde\\\\xe2b\\\\xad\\\\xa2\\\\xac%\\x1d\\\\x94\\\\xd6{\\\\x8f\\x1eKu\\\\xd9\\\\xf2\\\\x95\\x16J5R\\\\xc0W*\\x18Tb\\\\xb5\\x12\\\\xa1f5]\\x1a\\\\xb7\\\\x95Z1\\\\xa1\\\\xe3\\x07B\\\\xad\\\\xc1\\\\xac\\\\xb1\\\\xcb<f\\\\xdeD\\\\xf9\\\\x96b\\\\xf1jZf\\\\xf1\\\\xb5\\\\xbd v CLJ\\x11`w\\\\xef\\\\xbf4һ\\\\xf0ƖHSu_\\x11o{\\\\xf4\\\\xff\\\\xb5i\\\\xb5\\x19\\x15[\\\\xe6%\\\\xbfnA\\x0f\\u061d\\x06\\\\x8c\\\\xcd\\\\xe6\\\\x88W-`\\\\x93\\\\x8fvn<\\\\xe1F\\x12\\x16\\x0ce\\\\xc8¡h\\\\xba\\\\xddn\\\\xa0\\\\xdf_\\\\xc6g\\\\xaa\\\\xaa0\\\\xf82\\\\xbf\\x06\\\\xe2\\\\xf3%\\\\x91\\x1f\"\\\\xfdp\\\\xe8b\\\\xc0\\\\xb8\\\\xdc\\\\xeeИݒ\\\\x8e\\\\xcf3Zl\\\\xea\\\\x9dM,\\\\xa7K\\\\xf7\\x0cf\\x00\\\\xe7\\\\xfc2&m\\\\xddP\\\\xc1\\\\xb8\\\\xfd\\\\xec\\\\xd3\\\\xda,\\\\x84\\\\xf7\\\\xfa\\\\xa8\\\\xd3mak\\\\xba\\\\xab@\\\\xf7\\x10\\x14\\\\xdbM\\\\xca\\\\xd0\\x10\\\\x9e\\\\xa2T\\\\xad\\\\x944%\\\\m\\\\xa0@\\x06\\\\x8b\\\\xa8\\\\xfe\\x19\\x1f\\\\xb0\\x19xΟ\\\\xfb\\\\xc4\\\\xd7\\\\xd8}?y\\\\x82\\\\xf5\\x12\\\\xbaJ\\x17k\\x1a%<h\\\\xb3\\x06*\\\\xfcw\\\\xf4\\\\x99\\\\xce\\\\xec&\\\\xb6hb͛7\\\\x9c\\\\xf4\\\\xfbJ\\\\xea\\\\xb02\\\\xb6\\\\xef7U\\x0b=\\\\x8e\\\\xe40`\\\\xf6R+\\x06Ɵ\\\\xa8\\\\xd7}JL\\\\xe0\\x1aS\\\\x8d\\x18\\\\xa8\\\\xf4\\x1c\\\\xf9\\\\xf1\\\\x88mBW\\\\xf7\\\\xbd\\\\x89m\\x03\\\\xa5}ʥ\\x0f\\x05ǟ=\\\\x8fv\\x144\\\\xb1J }}\\x15q_\\\\xd9Z\\x0bHd\\\\x8e[zVy\\\\x92}6\\x1b\\\\x8a\\\\x8c\\\\xb6\\\\xc1z\\x16p5c6\\'\\\\xc1,\\\\x94)\\\\xef\\\\xfc\\\\xff\"\\x1e\\\\xcb(<\\\\x93\\\\xa9?>\\x02\\x0elA\\\\xec\\rγ\\\\x9d\\x7f\\\\xd2s\\\\xdc\\x0e\\x15\\\\x8ce.\\\\xf9\\\\xa7\\\\xe7\\\\xac\\\\xeds\\\\x97\\\\xb3\\\\xb6\\\\xa7\\\\xb2\\\\x97\\x16P\\\\xbf\\\\xca\\x13\\\\x84\\\\xa4\\x7fY\\\\xb6\\\\xd2\\\\xd2TF\\\\xaa\\x15\\\\xb6\\\\xa8\\\\x9eAC\\\\xcd\\x05\\\\xf1Y\\\\xeb\\\\xe0ϻs\\\\xe5\\\\xf8H\\\\xa0\\\\xbd\\\\x97\\\\xe5\\\\x9cH\\\\xba2\\\\x9f\\\\xbas٬\\\\xffa\\\\xf1z\\\\x80!\\\\x93\\\\x88\\\\xe5m\\x0bH\\\\xbe\\x0b\\\\xd7\\'z\\\\x8f\\\\xa0V\\x1f-b6\\n\\\\x990\\\\x8a6\\\\xa9\\\\xae\\\\x8e\\\\xa0\\\\x92\\\\xd8\\x1b\\\\xc8\\x0e\\\\xa2\\x11\\\\xc9?\\x02V{兢\\\\xe0^\\x1b\\\\x86\\x1f\\t\\\\x93OC\\\\xb3\\\\xfd\\\\xc1\\\\x9b~Ks1\\\\xb9\\\\xee\\\\xd5\\x08R2\\x15\"<VX\\\\x9a{\\\\xf2\\\\xab\\\\xeaJ\\x04\\\\xa2\\\\xbe\\x12%\\\\xefI\\\\xec3Fŀ\\x06Ɔ\\n\\\\xdf\\\\xfc#\\\\xb1\\\\xf2\\\\xc9rI\\\\xc4\\\\xda\\\\xc0|\\\\xa0B\\\\xfa\\r\\\\xd9m{\\\\xe3\\\\xd3\\\\\\\\xa2[\\\\xca\\\\xfa\\x03\\\\x94\\\\x8e\\U00038688@C[uM\\\\xa11d\\\\xfe\\\\xe8ߠ\\\\xce]+\\\\x80\\\\xc0:Ē\\\\xe7\\\\xc9hܜ\\\\xbe\\\\xd0^\\x1dpX\\\\xa1\\\\xcd\\\\xc4\\\\xff\\\\xaa\"\\\\x86\\\\xe0\\\\xfaמ\\\\xa3\\x7f\\\\x81\\\\xfd$\\x00\\\\x9b\\x1f\\\\xb3\\\\xfc\\x03\\x0e\\\\xf9\\\\xb3\\\\x84h-\\\\xf0h\\\\xf6\\t\\x19q\\\\x87\\tE#\\\\x9c\\x02\\\\xbb\\x07\\\\xb6\\x05\\\\xbft\\\\xdb\\x18>\\\\xa1\\\\xce \\\\xf4Pn\\\\xc2\\\\xef(\\\\xd7\\x02B@\\\\x81ev\\\\x8e\\x14\\\\xbd&\\\\xc0O\\\\x91/\\\\xaa\\\\xdc=`\\x0f*\\\\x94\\\\xf8\\\\xc2D\\\\x97\\\\xed\\\\xa1\\\\xe1ݗ!f\\x0bz\\\\x9d<L,\\\\xa0\\\\xf4\\\\x97\\\\x8bP\\\\xbeǓ\\\\xdb*\\\\xf8Oy\\\\xfb)\\\\x8f\\\\x9d\\x0c.\\\\xab\\\\x96\\\\xb6a#s\\\\xa1\\x0f\\\\xca\\\\xf1\\\\xb7\\x0eP\\\\x9b\\\\xf3\\\\xfd/(\\\\xb6\\\\xa9\\\\xe64\\\\xa6\\\\x98\\\\xed\\\\xbf\\x0fm\\\\xfcV\\\\xb3\\\\xdd5\\\\x9c\\\\x81\\\\xc6.R\\\\xff\\\\xf8\\\\xc5U\\\\xef\\\\xae\\x1e6\\x16\\x1cxMc\\\\xa0\\\\xc2T\\\\x99X\\\\xf2\\\\xc0\\\\xaf|X\\\\xbai:Q\\x13-\\\\xeaU\\\\xa5\\\\xd00\\\\xd8\\\\xe8\\\\xbc\\\\xcf\\\\xe1eW\\\\x83\\\\xa9a\\\\x8c\\\\xe6w\\x05Jׂ\\\\xef\\x04\\\\xcdh\\x00\\\\xb9.\\\\x9d9\\\\xa6\\\\xc2\\x01\\\\x8e3\\\\xe8̊\\\\xc8\\\\xd8rk\\\\xed\\\\xb0\\\\xcf\\\\xce\\x0f\\x0b\\\\xfa\\\\xd6o!\\\\xcc\\\\xdaӦ\\\\xf35\\x05\\\\x95\\\\xb5.\\\\xe1WX\\tI\\\\xa2տk\\\\xb8\\\\xe9Ҫsӡl\\x12\\x13\\x05\\x1c\\\\xa8$\\\\x83\\\\xfe\\\\xf0\\\\x91@\\\\x97\\x16\\x15@\\\\x96\\\\xd6G\\\\x8fh\\\\xd5=\\\\xc9\\\\xf1\\\\xdeeW\\\\xb0\\\\x90\\\\x9b\\\\xa5\\\\x8d\\\\xb7V8k(`\\\\x94L9v \\\\xd602\\\\x8d\\x14\\'\\x05c\\\\xa3\\\\x94\\\\x9e\\\\xa1\\x01\\\\xfcZ\\x14|Si\\\\xf9t\\x1a\\\\xfc\\\\xf7\\\\x94\\\\xc4\\x0cX\\x16J\\\\xb6\\\\xae\\x13\\\\xb0{k\\\\xf7%71\\\\x88_\\\\xa1\\\\xf9\\x04ܵ\\\\xd7е\\\\xb6\\\\xa1K7\\\\xfa\\\\x96\\\\xe1\\\\xfd&\\x1f\\\\xaf\\\\xf3.\\\\xf0\\\\xd0?\\\\xbd^\\\\xd8\\\\xeb 0\\x02\\\\xda\\\\xf5\\\\xc8\\\\xee;l9\\\\xf0\\\\xec\\x0f\\\\x90\\\\x80!(\\'\\x1c:\\\\xb4\\x127\\\\xc6v5y\\x0f,\\x02A\\\\x84y\\x19\\\\x89-g\\\\xe2\\\\xa8\\\\xda*Mr(\\\\x92\\\\x9c\\\\xbc\\\\xd4KXy})\\\\xccN\\\\x8c\\x1b\\t;\\\\xf8\\\\xd4\\ry\\rkP\\x16W\\\\xd1\\\\xc6|\\\\xbd\\x1d\\\\\\\\xcb\\\\xca\\\\@\\\\xf17v|z\\u0378aY[46x~֡m\\\\xa1\\x1f\\\\xd9(P2\\\\x8d\\\\xcf$N@\\\\xd6\\\\xd3\\\\xcdP\\\\x81\\n\\\\x90\\\\xd9\\x1c\\x0b}\\x10\\x18#}\\\\8JaF\\x11\\x1a\\\\x82CQ\\\\xf3\\\\xe1\\\\xca\\x08Y\\\\xaa\\\\xe0Qޤ\\x1b\\\\xc9h\\\\xfb\\\\x97\\x04f\\x1aP\\\\xc2\\x7fD\\\\xe2\\\\xd0B\\\\xe8\\\\xe4s\\\\x89-\\x15\\\\xff\\\\xa3'\n",
      "\n"
     ]
    }
   ],
   "source": [
    "# ETHERNET -> Internet Protocol -> Layer 4 Segments\n",
    "# We're only interested in Layers 3 (IP) and 4 (TCP AND UDP) \n",
    "## We'll parse those two layers and the layer 4 payload\n",
    "## When capturing we capture layer 2 frames and beyond\n",
    "\n",
    "# Retrieving a single item from packet list\n",
    "ethernet_frame = pcap[31]\n",
    "ip_packet = ethernet_frame.payload\n",
    "segment = ip_packet.payload\n",
    "data = segment.payload # Retrieve payload that comes after layer 4\n",
    "\n",
    "# Observe that we just popped off previous layer header\n",
    "print(ethernet_frame.summary())\n",
    "print(ip_packet.summary())\n",
    "print(segment.summary())\n",
    "print(data.summary()) # If blank, empty object\n",
    "print(\"---------- Complete depiction of a packet ----------\")\n",
    "\n",
    "# Complete depiction of paket\n",
    "## Achieving understanding that these are the fields will enable the ability \n",
    "## to ask the data more meaningful questions ie) type of layer 4 segment is defined in layer 3 packet\n",
    "ethernet_frame.show()"
   ]
  },
  {
   "cell_type": "code",
   "execution_count": 5,
   "metadata": {},
   "outputs": [],
   "source": [
    "# # Understanding the object types in scapy\n",
    "# print(type(ethernet_frame))\n",
    "# print(type(ip_packet))\n",
    "# print(type(segment))\n",
    "\n",
    "# # Packets can be filtered on layers ie) ethernet_frame[scapy.layers.l2.Ether]\n",
    "# ethernet_type = type(ethernet_frame)\n",
    "# ip_type = type(ip_packet)\n",
    "# tcp_type = type(segment)\n",
    "# print(\"Ethernet\",pcap[ethernet_type])\n",
    "# print(\"IP\", pcap[ip_type])\n",
    "# print(\"TCP\", pcap[tcp_type])\n",
    "\n",
    "# # Scapy provides this via import statements\n",
    "# from scapy.layers.l2 import Ether\n",
    "# from scapy.layers.inet import IP\n",
    "# from scapy.layers.inet import TCP, UDP\n",
    "\n",
    "# print(\"UDP\", pcap[UDP])"
   ]
  },
  {
   "cell_type": "markdown",
   "metadata": {},
   "source": [
    "## Convert PCAP to DataFrame\n"
   ]
  },
  {
   "cell_type": "code",
   "execution_count": 6,
   "metadata": {},
   "outputs": [],
   "source": [
    "# Collect field names from IP/TCP/UDP (These will be columns in DF)\n",
    "ip_fields = [field.name for field in IP().fields_desc]\n",
    "tcp_fields = [field.name for field in TCP().fields_desc]\n",
    "udp_fields = [field.name for field in UDP().fields_desc]\n",
    "\n",
    "# ['version', 'ihl', 'tos', 'len', 'id', 'flags', 'frag', 'ttl', 'proto', 'chksum', 'src', 'dst', 'options', 'time', 'sport', 'dport', 'seq', 'ack', 'dataofs', 'reserved', 'flags', 'window', 'chksum', 'urgptr', 'options', 'payload', 'payload_raw', 'payload_hex']\n",
    "dataframe_fields = ip_fields + ['time'] + tcp_fields + ['payload','payload_raw','payload_hex']\n",
    "# print(dataframe_fields)\n",
    "\n",
    "\n",
    "# Create blank DataFrame\n",
    "df = pd.DataFrame(columns=dataframe_fields)\n",
    "for packet in pcap[IP]:\n",
    "    # Field array for each row of DataFrame\n",
    "    field_values = []\n",
    "    # Add all IP fields to dataframe\n",
    "    for field in ip_fields:\n",
    "        if field == 'options':\n",
    "            # Retrieving number of options defined in IP Header\n",
    "            field_values.append(len(packet[IP].fields[field]))\n",
    "        else:\n",
    "            field_values.append(packet[IP].fields[field])\n",
    "    \n",
    "    field_values.append(packet.time)\n",
    "    \n",
    "    layer_type = type(packet[IP].payload)\n",
    "    # print(layer_type)\n",
    "    for field in tcp_fields:\n",
    "        try:\n",
    "            if field == 'options':\n",
    "                field_values.append(len(packet[layer_type].fields[field]))\n",
    "            else:\n",
    "                field_values.append(packet[layer_type].fields[field])\n",
    "        except:\n",
    "            field_values.append(None)\n",
    "    \n",
    "    # Append payload\n",
    "    field_values.append(len(packet[layer_type].payload))\n",
    "    field_values.append(packet[layer_type].payload.original)\n",
    "    field_values.append(binascii.hexlify(packet[layer_type].payload.original))\n",
    "    # Add row to DF\n",
    "    df_append = pd.DataFrame([field_values], columns=dataframe_fields)\n",
    "    df = pd.concat([df, df_append], axis=0)\n",
    "\n",
    "# Reset Index\n",
    "df = df.reset_index()\n",
    "# Drop old index column\n",
    "df = df.drop(columns=\"index\")"
   ]
  },
  {
   "cell_type": "code",
   "execution_count": 7,
   "metadata": {},
   "outputs": [
    {
     "data": {
      "text/plain": [
       "count            5578\n",
       "unique             21\n",
       "top       10.9.23.101\n",
       "freq             1887\n",
       "Name: src, dtype: object"
      ]
     },
     "execution_count": 7,
     "metadata": {},
     "output_type": "execute_result"
    }
   ],
   "source": [
    "# len(df)\n",
    "# df.info\n",
    "df['src'].describe()"
   ]
  },
  {
   "cell_type": "markdown",
   "metadata": {},
   "source": [
    "### DataFrame Basics"
   ]
  },
  {
   "cell_type": "code",
   "execution_count": 8,
   "metadata": {},
   "outputs": [
    {
     "name": "stdout",
     "output_type": "stream",
     "text": [
      "(5578, 28)\n"
     ]
    },
    {
     "data": {
      "text/html": [
       "<div>\n",
       "<style scoped>\n",
       "    .dataframe tbody tr th:only-of-type {\n",
       "        vertical-align: middle;\n",
       "    }\n",
       "\n",
       "    .dataframe tbody tr th {\n",
       "        vertical-align: top;\n",
       "    }\n",
       "\n",
       "    .dataframe thead th {\n",
       "        text-align: right;\n",
       "    }\n",
       "</style>\n",
       "<table border=\"1\" class=\"dataframe\">\n",
       "  <thead>\n",
       "    <tr style=\"text-align: right;\">\n",
       "      <th></th>\n",
       "      <th>src</th>\n",
       "      <th>dst</th>\n",
       "      <th>sport</th>\n",
       "      <th>dport</th>\n",
       "    </tr>\n",
       "  </thead>\n",
       "  <tbody>\n",
       "    <tr>\n",
       "      <th>0</th>\n",
       "      <td>10.9.23.101</td>\n",
       "      <td>10.9.23.23</td>\n",
       "      <td>56868</td>\n",
       "      <td>53</td>\n",
       "    </tr>\n",
       "    <tr>\n",
       "      <th>1</th>\n",
       "      <td>10.9.23.23</td>\n",
       "      <td>10.9.23.101</td>\n",
       "      <td>53</td>\n",
       "      <td>56868</td>\n",
       "    </tr>\n",
       "    <tr>\n",
       "      <th>2</th>\n",
       "      <td>10.9.23.101</td>\n",
       "      <td>137.184.114.20</td>\n",
       "      <td>58592</td>\n",
       "      <td>80</td>\n",
       "    </tr>\n",
       "    <tr>\n",
       "      <th>3</th>\n",
       "      <td>137.184.114.20</td>\n",
       "      <td>10.9.23.101</td>\n",
       "      <td>80</td>\n",
       "      <td>58592</td>\n",
       "    </tr>\n",
       "    <tr>\n",
       "      <th>4</th>\n",
       "      <td>10.9.23.101</td>\n",
       "      <td>137.184.114.20</td>\n",
       "      <td>58592</td>\n",
       "      <td>80</td>\n",
       "    </tr>\n",
       "    <tr>\n",
       "      <th>...</th>\n",
       "      <td>...</td>\n",
       "      <td>...</td>\n",
       "      <td>...</td>\n",
       "      <td>...</td>\n",
       "    </tr>\n",
       "    <tr>\n",
       "      <th>5573</th>\n",
       "      <td>5.252.177.10</td>\n",
       "      <td>10.9.23.101</td>\n",
       "      <td>443</td>\n",
       "      <td>58699</td>\n",
       "    </tr>\n",
       "    <tr>\n",
       "      <th>5574</th>\n",
       "      <td>10.9.23.101</td>\n",
       "      <td>5.252.177.10</td>\n",
       "      <td>58699</td>\n",
       "      <td>443</td>\n",
       "    </tr>\n",
       "    <tr>\n",
       "      <th>5575</th>\n",
       "      <td>5.252.177.10</td>\n",
       "      <td>10.9.23.101</td>\n",
       "      <td>443</td>\n",
       "      <td>58699</td>\n",
       "    </tr>\n",
       "    <tr>\n",
       "      <th>5576</th>\n",
       "      <td>5.252.177.10</td>\n",
       "      <td>10.9.23.101</td>\n",
       "      <td>443</td>\n",
       "      <td>58699</td>\n",
       "    </tr>\n",
       "    <tr>\n",
       "      <th>5577</th>\n",
       "      <td>10.9.23.101</td>\n",
       "      <td>5.252.177.10</td>\n",
       "      <td>58699</td>\n",
       "      <td>443</td>\n",
       "    </tr>\n",
       "  </tbody>\n",
       "</table>\n",
       "<p>5578 rows × 4 columns</p>\n",
       "</div>"
      ],
      "text/plain": [
       "                 src             dst  sport  dport\n",
       "0        10.9.23.101      10.9.23.23  56868     53\n",
       "1         10.9.23.23     10.9.23.101     53  56868\n",
       "2        10.9.23.101  137.184.114.20  58592     80\n",
       "3     137.184.114.20     10.9.23.101     80  58592\n",
       "4        10.9.23.101  137.184.114.20  58592     80\n",
       "...              ...             ...    ...    ...\n",
       "5573    5.252.177.10     10.9.23.101    443  58699\n",
       "5574     10.9.23.101    5.252.177.10  58699    443\n",
       "5575    5.252.177.10     10.9.23.101    443  58699\n",
       "5576    5.252.177.10     10.9.23.101    443  58699\n",
       "5577     10.9.23.101    5.252.177.10  58699    443\n",
       "\n",
       "[5578 rows x 4 columns]"
      ]
     },
     "execution_count": 8,
     "metadata": {},
     "output_type": "execute_result"
    }
   ],
   "source": [
    "# Retrieve first row from DataFrame\n",
    "# print(df.iloc[0])\n",
    "\n",
    "print(df.shape)\n",
    "\n",
    "# Return first 5 rows\n",
    "df.head()\n",
    "\n",
    "# Return last 5 rows\n",
    "df.tail()\n",
    "\n",
    "# Return the Source Address for all rows\n",
    "df['src']\n",
    "\n",
    "# Return Src Address, Dst Address, Src Port, Dst Port\n",
    "df[['src','dst','sport','dport']]"
   ]
  },
  {
   "cell_type": "markdown",
   "metadata": {},
   "source": [
    "## Statistics"
   ]
  },
  {
   "cell_type": "code",
   "execution_count": 9,
   "metadata": {},
   "outputs": [
    {
     "name": "stdout",
     "output_type": "stream",
     "text": [
      "# Top Source Address\n",
      "count            5578\n",
      "unique             21\n",
      "top       10.9.23.101\n",
      "freq             1887\n",
      "Name: src, dtype: object \n",
      "\n",
      "\n",
      "# Top Destination Address\n",
      "count            5578\n",
      "unique             26\n",
      "top       10.9.23.101\n",
      "freq             3691\n",
      "Name: dst, dtype: object \n",
      "\n",
      "\n",
      "# Who is Top Address Speaking to?\n",
      "['10.9.23.23' '137.184.114.20' '64.227.116.208' '5.252.177.10'\n",
      " '10.9.23.255' '10.9.23.1' '13.107.246.57' '51.104.15.253' '40.91.73.169'\n",
      " '184.31.139.238' '20.42.73.27' '209.197.3.8' '20.189.173.13' '224.0.0.22'\n",
      " '239.255.255.250' '224.0.0.251' '224.0.0.252' '13.69.239.74'\n",
      " '51.11.168.232' '40.126.28.20' '52.184.206.73' '51.104.15.252'\n",
      " '78.128.112.139' '52.168.112.66' '104.46.162.224'] \n",
      "\n",
      "\n",
      "# Who is the top address speaking to (Destination Ports)\n",
      "[53 80 443 135 49669 49693 138 137 139 445 None 1900 5353 5355 123 389\n",
      " 3268] \n",
      "\n",
      "\n",
      "# Who is the top address speaking to (Source Ports)\n",
      "[56868 58592 55087 58593 58594 58595 58962 58596 58597 58598 58599 138 137\n",
      " 58600 58601 53912 58602 62716 58605 53551 58607 52657 58608 55929 58609\n",
      " 50214 58612 58613 52200 58614 58478 58615 54560 65216 58237 58616 63605\n",
      " 58617 58618 None 65486 5353 54828 58619 58620 53707 56644 58621 58622\n",
      " 58623 55687 58624 123 51145 58625 64693 64698 52810 58626 64766 58627\n",
      " 65289 63220 59050 58628 55207 49173 51023 58629 51260 58630 54276 58631\n",
      " 54277 58632 58633 58634 58635 57358 58636 58637 58638 56625 58639 61913\n",
      " 58640 61930 52183 50389 58641 63554 51946 62547 58642 56816 58643 54917\n",
      " 58644 60997 62814 57709 58645 64973 64974 58646 58647 58648 58649 64135\n",
      " 58650 58651 58652 58653 58654 58655 58656 58657 58658 58659 58660 58661\n",
      " 58662 58663 58664 58665 58666 58667 58668 58669 58670 58671 60876 61474\n",
      " 61385 60310 58672 58673 58674 58675 58676 58677 59190 59191 58678 58679\n",
      " 58680 58681 58682 58683 58684 58685 58686 58687 58688 58689 58690 61704\n",
      " 53027 59897 58691 65377 58692 49327 56725 61581 58693 62486 60976 60161\n",
      " 58694 49896 58695 55070 58696 56617 58697 61195 52970 52391 58698 65226\n",
      " 58699] \n",
      "\n",
      "\n"
     ]
    }
   ],
   "source": [
    "# Top Source Adddress\n",
    "print(\"# Top Source Address\")\n",
    "print(df['src'].describe(),'\\n\\n')\n",
    "\n",
    "# Top Destination Address\n",
    "print(\"# Top Destination Address\")\n",
    "print(df['dst'].describe(),\"\\n\\n\")\n",
    "\n",
    "frequent_address = df['src'].describe()['top']\n",
    "\n",
    "# Who is the top address speaking to\n",
    "print(\"# Who is Top Address Speaking to?\")\n",
    "print(df[df['src'] == frequent_address]['dst'].unique(),\"\\n\\n\")\n",
    "\n",
    "# Who is the top address speaking to (dst ports)\n",
    "print(\"# Who is the top address speaking to (Destination Ports)\")\n",
    "print(df[df['src'] == frequent_address]['dport'].unique(),\"\\n\\n\")\n",
    "\n",
    "# Who is the top address speaking to (src ports)\n",
    "print(\"# Who is the top address speaking to (Source Ports)\")\n",
    "print(df[df['src'] == frequent_address]['sport'].unique(),\"\\n\\n\")"
   ]
  },
  {
   "cell_type": "code",
   "execution_count": 26,
   "metadata": {},
   "outputs": [],
   "source": [
    "from ipaddress import ip_address\n"
   ]
  },
  {
   "cell_type": "code",
   "execution_count": 33,
   "metadata": {},
   "outputs": [
    {
     "name": "stdout",
     "output_type": "stream",
     "text": [
      "Unique Source Addresses\n",
      "137.184.114.20\n",
      "64.227.116.208\n",
      "5.252.177.10\n",
      "13.107.246.57\n",
      "51.104.15.253\n",
      "40.91.73.169\n",
      "184.31.139.238\n",
      "20.42.73.27\n",
      "209.197.3.8\n",
      "20.189.173.13\n",
      "13.69.239.74\n",
      "51.11.168.232\n",
      "40.126.28.20\n",
      "52.184.206.73\n",
      "51.104.15.252\n",
      "78.128.112.139\n",
      "52.168.112.66\n",
      "104.46.162.224\n"
     ]
    }
   ],
   "source": [
    "print(\"Unique Source Addresses\")\n",
    "unique_src_addresses = df['src'].unique()\n",
    "unique_src_addresses = unique_src_addresses.tolist()\n",
    "\n",
    "external_src_addresses = []\n",
    "for adr in unique_src_addresses:\n",
    "    if not ip_address(adr).is_private:\n",
    "        external_src_addresses.append(adr)\n",
    "\n",
    "for src in external_src_addresses:\n",
    "    print(src)\n"
   ]
  },
  {
   "cell_type": "code",
   "execution_count": 32,
   "metadata": {},
   "outputs": [
    {
     "name": "stdout",
     "output_type": "stream",
     "text": [
      "Unique Destination Addresses\n",
      "137.184.114.20\n",
      "64.227.116.208\n",
      "5.252.177.10\n",
      "13.107.246.57\n",
      "51.104.15.253\n",
      "40.91.73.169\n",
      "184.31.139.238\n",
      "20.42.73.27\n",
      "209.197.3.8\n",
      "20.189.173.13\n",
      "224.0.0.22\n",
      "239.255.255.250\n",
      "224.0.0.251\n",
      "224.0.0.252\n",
      "13.69.239.74\n",
      "51.11.168.232\n",
      "40.126.28.20\n",
      "52.184.206.73\n",
      "51.104.15.252\n",
      "78.128.112.139\n",
      "52.168.112.66\n",
      "104.46.162.224\n"
     ]
    }
   ],
   "source": [
    "print(\"Unique Destination Addresses\")\n",
    "unique_dst_addresses = df['dst'].unique()\n",
    "unique_dst_addresses = unique_dst_addresses.tolist()\n",
    "\n",
    "external_dest_addresses = []\n",
    "for adr in unique_dst_addresses:\n",
    "    if not ip_address(adr).is_private:\n",
    "        external_dest_addresses.append(adr)\n",
    "\n",
    "for ext in external_dest_addresses:\n",
    "    print(ext)"
   ]
  }
 ],
 "metadata": {
  "kernelspec": {
   "display_name": "Python 3",
   "language": "python",
   "name": "python3"
  },
  "language_info": {
   "codemirror_mode": {
    "name": "ipython",
    "version": 3
   },
   "file_extension": ".py",
   "mimetype": "text/x-python",
   "name": "python",
   "nbconvert_exporter": "python",
   "pygments_lexer": "ipython3",
   "version": "3.10.8 (main, Oct 12 2022, 00:00:00) [GCC 12.2.1 20220819 (Red Hat 12.2.1-2)]"
  },
  "orig_nbformat": 4,
  "vscode": {
   "interpreter": {
    "hash": "767d51c1340bd893661ea55ea3124f6de3c7a262a8b4abca0554b478b1e2ff90"
   }
  }
 },
 "nbformat": 4,
 "nbformat_minor": 2
}

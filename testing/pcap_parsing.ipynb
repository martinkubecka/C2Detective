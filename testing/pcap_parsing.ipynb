{
 "cells": [
  {
   "cell_type": "code",
   "execution_count": null,
   "metadata": {},
   "outputs": [],
   "source": [
    "from IPy import IP\n",
    "from scapy.all import *\n",
    "import pandas as pd\n",
    "import numpy as np\n",
    "import binascii  # binary to ASCII\n",
    "from time import perf_counter\n",
    "from ipaddress import ip_address\n",
    "import logging\n",
    "import time\n",
    "import pyshark\n",
    "import nest_asyncio\n",
    "from prettytable import PrettyTable\n",
    "from collections import Counter\n",
    "nest_asyncio.apply()"
   ]
  },
  {
   "cell_type": "code",
   "execution_count": null,
   "metadata": {},
   "outputs": [],
   "source": [
    "# filepath = 'samples/icedid.pcap'\n",
    "filepath = \"/home/martin/Programming/C2Detective/samples/https_wireshark.pcap\"\n",
    "load_layer('tls')"
   ]
  },
  {
   "cell_type": "markdown",
   "metadata": {},
   "source": [
    "# Load packets as a list in memory"
   ]
  },
  {
   "cell_type": "code",
   "execution_count": null,
   "metadata": {},
   "outputs": [],
   "source": [
    "packets = rdpcap(filepath)  # creates a list in memory\n",
    "# creates a generator, packets are not not stored in memory\n",
    "# packets = PcapReader(filepath)"
   ]
  },
  {
   "cell_type": "markdown",
   "metadata": {},
   "source": [
    "---"
   ]
  },
  {
   "cell_type": "markdown",
   "metadata": {},
   "source": [
    "# Packets parsing with Scapy (fast)"
   ]
  },
  {
   "cell_type": "markdown",
   "metadata": {},
   "source": [
    "### External source IP count"
   ]
  },
  {
   "cell_type": "code",
   "execution_count": null,
   "metadata": {},
   "outputs": [],
   "source": [
    "src_ip_list =[]\n",
    "\n",
    "for packet in packets:\n",
    "  if IP in packet:\n",
    "    try:\n",
    "      src_ip = packet[IP].src\n",
    "      if not ip_address(src_ip).is_private: # append only public IPs\n",
    "        src_ip_list.append(src_ip)\n",
    "    except:\n",
    "      pass\n",
    "\n",
    "cnt=Counter()\n",
    "for ip in src_ip_list:\n",
    "  cnt[ip] += 1\n",
    "\n",
    "table= PrettyTable([\"Source IP\", \"Count\"])\n",
    "for ip, count in cnt.most_common():\n",
    "  table.add_row([ip, count])\n",
    "print(table)"
   ]
  },
  {
   "cell_type": "markdown",
   "metadata": {},
   "source": [
    "### External destination IP count"
   ]
  },
  {
   "cell_type": "code",
   "execution_count": null,
   "metadata": {},
   "outputs": [],
   "source": [
    "dst_ip_list =[]\n",
    "\n",
    "for packet in packets:\n",
    "  if IP in packet:\n",
    "    try:\n",
    "      dst_ip = packet[IP].dst\n",
    "      if not ip_address(dst_ip).is_private: # append only public IPs\n",
    "        dst_ip_list.append(dst_ip)\n",
    "    except:\n",
    "      pass\n",
    "\n",
    "cnt=Counter()\n",
    "for ip in dst_ip_list:\n",
    "  cnt[ip] += 1\n",
    "\n",
    "table= PrettyTable([\"Destination IP\", \"Count\"])\n",
    "for ip, count in cnt.most_common():\n",
    "  table.add_row([ip, count])\n",
    "print(table)"
   ]
  },
  {
   "cell_type": "markdown",
   "metadata": {},
   "source": [
    "## Anatomy of TLS packet structure"
   ]
  },
  {
   "cell_type": "code",
   "execution_count": null,
   "metadata": {},
   "outputs": [],
   "source": [
    "# for packet in packets:\n",
    "#     print(packet.summary())\n",
    "    # if packet.haslayer(SSL):\n",
    "    #     packet.show()\n",
    "    #     break\n",
    "\n",
    "print(packets[1520].show())"
   ]
  },
  {
   "cell_type": "markdown",
   "metadata": {},
   "source": [
    "## Anatomy of a DNS packet structure"
   ]
  },
  {
   "cell_type": "code",
   "execution_count": null,
   "metadata": {},
   "outputs": [],
   "source": [
    "# packet[1][0] = Ether\n",
    "# packet[1][1] = IP\n",
    "# packet[1][2] = UDP\n",
    "# packet[1][3] = DNS\n",
    "# packet[1][4] = DNSQR\n",
    "# packet[1][5-9] = DNSRR\n",
    "\n",
    "# ###[ Ethernet ]### \n",
    "#   dst       = 00:0e:53:07:f5:22\n",
    "#   src       = 00:0b:db:a6:5f:13\n",
    "#   type      = IPv4\n",
    "# ###[ IP ]### \n",
    "#      version   = 4\n",
    "#      ihl       = 5\n",
    "#      tos       = 0x0\n",
    "#      len       = 80\n",
    "#      id        = 33736\n",
    "#      flags     = \n",
    "#      frag      = 0\n",
    "#      ttl       = 128\n",
    "#      proto     = udp\n",
    "#      chksum    = 0x7447\n",
    "#      src       = 10.9.23.23\n",
    "#      dst       = 10.9.23.101\n",
    "#      \\options   \\\n",
    "# ###[ UDP ]### \n",
    "#         sport     = domain\n",
    "#         dport     = 56868\n",
    "#         len       = 60\n",
    "#         chksum    = 0x380a\n",
    "# ###[ DNS ]### \n",
    "#            id        = 40087\n",
    "#            qr        = 1\n",
    "#            opcode    = QUERY\n",
    "#            aa        = 0\n",
    "#            tc        = 0\n",
    "#            rd        = 1\n",
    "#            ra        = 1\n",
    "#            z         = 0\n",
    "#            ad        = 0\n",
    "#            cd        = 0\n",
    "#            rcode     = ok\n",
    "#            qdcount   = 1\n",
    "#            ancount   = 1\n",
    "#            nscount   = 0\n",
    "#            arcount   = 0\n",
    "#            \\qd        \\\n",
    "#             |###[ DNS Question Record ]### \n",
    "#             |  qname     = 'trallfasterinf.com.'\n",
    "#             |  qtype     = A\n",
    "#             |  qclass    = IN\n",
    "#            \\an        \\\n",
    "#             |###[ DNS Resource Record ]### \n",
    "#             |  rrname    = 'trallfasterinf.com.'\n",
    "#             |  type      = A\n",
    "#             |  rclass    = IN\n",
    "#             |  ttl       = 29\n",
    "#             |  rdlen     = None\n",
    "#             |  rdata     = 137.184.114.20\n",
    "#            ns        = None\n",
    "#            ar        = None"
   ]
  },
  {
   "cell_type": "code",
   "execution_count": null,
   "metadata": {},
   "outputs": [],
   "source": [
    "for packet in packets:\n",
    "   if packet.haslayer(DNSRR):\n",
    "        packet.show()\n",
    "        break"
   ]
  },
  {
   "cell_type": "markdown",
   "metadata": {},
   "source": [
    "## Extracting data"
   ]
  },
  {
   "cell_type": "markdown",
   "metadata": {},
   "source": [
    "### Enumerate and extract DNSQR and DNSRR fields"
   ]
  },
  {
   "cell_type": "code",
   "execution_count": null,
   "metadata": {},
   "outputs": [],
   "source": [
    "# SOURCE : https://cybernomad.online/2014/05/12/scapy-iterating-over-dns-responses/\n",
    "\n",
    "# <DNS  id=0 qr=1L opcode=QUERY aa=0L tc=0L rd=1L ra=1L z=0L ad=0L cd=0L rcode=ok qdcount=1 ancount=5 nscount=0 arcount=0 \n",
    "# qd=<DNSQR  qname='www.stackoverflow.com.' qtype=A qclass=IN \n",
    "# |> an=<DNSRR  rrname='www.stackoverflow.com.' type=CNAME rclass=IN ttl=3379 rdata='stackoverflow.com.' \n",
    "# |<DNSRR  rrname='stackoverflow.com.' type=A rclass=IN ttl=79 rdata='151.101.1.69' \n",
    "# |<DNSRR  rrname='stackoverflow.com.' type=A rclass=IN ttl=79 rdata='151.101.65.69' \n",
    "# |<DNSRR  rrname='stackoverflow.com.' type=A rclass=IN ttl=79 rdata='151.101.129.69' \n",
    "# |<DNSRR  rrname='stackoverflow.com.' type=A rclass=IN ttl=79 rdata='151.101.193.69' \n",
    "# |>>>>> ns=None ar=None |>\n",
    "\n",
    "for p in packets:\n",
    "    if p.haslayer(DNSQR):\n",
    "        qname = (p[DNSQR].qname).decode()\n",
    "        print(f\"DNS Question Record [qname]: {qname}\")\n",
    "\n",
    "    if p.haslayer(DNSRR):\n",
    "        for x in range(p[DNS].ancount):\n",
    "            rrname = (p[DNSRR][x].rrname).decode()\n",
    "            rdata = (p[DNSRR][x].rdata)\n",
    "            print(f\"DNS Resource Record [rrname]: {rrname}\")\n",
    "            print(f\"DNS Resource Record [rdata]: {rdata}\")\n",
    "           \n",
    "        print(\"----------------------\")\n",
    "\n",
    "        # a_count = p[DNS].ancount\n",
    "        # i = a_count + 4\n",
    "        # while i > 4:\n",
    "        #     print(p[0][i].rdata, p[0][i].rrname)\n",
    "        #     i -= 1"
   ]
  },
  {
   "cell_type": "markdown",
   "metadata": {},
   "source": [
    "### Extract unique connections"
   ]
  },
  {
   "cell_type": "code",
   "execution_count": null,
   "metadata": {},
   "outputs": [],
   "source": [
    "connetions_all = set()\n",
    "connections_public_private = set()\n",
    "\n",
    "for packet in packets:\n",
    "    if 'IP' in packet:\n",
    "        ip_layer = packet['IP']  # obtain the IPv4 header\n",
    "        ip_src = ip_layer.src\n",
    "        ip_dst = ip_layer.dst\n",
    "        connetions_all.add((ip_src, ip_dst))\n",
    "\n",
    "        if not ip_address(ip_src).is_private or not ip_address(ip_dst).is_private:\n",
    "            connections_public_private.add((ip_src, ip_dst))\n",
    "\n",
    "print(f\">> Number of all connections: {len(connetions_all)}\")\n",
    "# print(f\">> List of connections:\")\n",
    "# for connetion in connetions_all:\n",
    "#     print(connetion)\n",
    "\n",
    "print(f\">> Number of connections containing public src/dst address: {len(connections_public_private)}\")\n",
    "print(f\">> List of connections:\")\n",
    "for connetion in connections_public_private:\n",
    "    print(connetion)"
   ]
  },
  {
   "cell_type": "markdown",
   "metadata": {},
   "source": [
    "### Extract domains from DNS responses"
   ]
  },
  {
   "cell_type": "code",
   "execution_count": null,
   "metadata": {},
   "outputs": [],
   "source": [
    "rrnames = set()\n",
    "\n",
    "# iterate through every packet\n",
    "for packet in packets:\n",
    "    # only interested packets with a DNS Round Robin layer\n",
    "    if packet.haslayer(DNSRR):\n",
    "        # if the an(swer) is a DNSRR, print the name it replied with\n",
    "        if isinstance(packet.an, DNSRR):\n",
    "            rrnames.add(packet.an.rrname.decode('UTF-8'))\n",
    "\n",
    "print(f\">> Found '{len(rrnames)}' unique 'rrnames'\\n\")\n",
    "for name in rrnames:\n",
    "    print(name)"
   ]
  },
  {
   "cell_type": "markdown",
   "metadata": {},
   "source": [
    "---"
   ]
  },
  {
   "cell_type": "markdown",
   "metadata": {},
   "source": [
    "# Packets parsing with PyShark (slow)"
   ]
  },
  {
   "cell_type": "code",
   "execution_count": null,
   "metadata": {},
   "outputs": [],
   "source": [
    "pkts = pyshark.FileCapture(filepath)"
   ]
  },
  {
   "cell_type": "code",
   "execution_count": null,
   "metadata": {},
   "outputs": [],
   "source": [
    "# EXTRACT SSL\n",
    "for p in pkts:\n",
    "    if 'SSL' in p:\n",
    "        for layer in p.layers:\n",
    "            if layer.layer_name == 'ssl':\n",
    "                if hasattr(layer, 'x509ce_dnsname'):\n",
    "                    print(layer.x509ce_dnsname)"
   ]
  },
  {
   "cell_type": "code",
   "execution_count": null,
   "metadata": {},
   "outputs": [],
   "source": [
    "# EXTRACT DNS QUERIES AND DNS RESPONSES\n",
    "dns_queries = set()\n",
    "\n",
    "for p in pkts:\n",
    "    try: \n",
    "        if p['DNS'].flags_response == '0':\n",
    "            rrname = p['DNS'].qry_name\n",
    "            # QUERY\n",
    "            # print(f\"QUERY : {p['DNS'].qry_name}\")\n",
    "            dns_queries.add(rrname)\n",
    "        # else:\n",
    "        #     print(f\"QUERY : {p['DNS'].qry_name}\")\n",
    "        #     # RESPONSE\n",
    "        #     if hasattr(p['DNS'], 'a'):\n",
    "        #         print(f\"RESPONSE : {p['DNS'].a}\")\n",
    "        #     if hasattr(p['DNS'], 'aaaa'):\n",
    "        #         print(f\"RESPONSE : {p['DNS'].aaaa}\")\n",
    "    except KeyError as e:\n",
    "        continue\n",
    "\n",
    "for rrname in dns_queries:\n",
    "    print(rrname)"
   ]
  },
  {
   "cell_type": "code",
   "execution_count": null,
   "metadata": {},
   "outputs": [],
   "source": [
    "for p in pkts:\n",
    "    try:\n",
    "        if hasattr(p['HTTP'], 'host'):\n",
    "            print(f\"Host: {p['HTTP'].host}\")\n",
    "\n",
    "        if p['HTTP'].get_field('User-Agent'):\n",
    "            print(f\"User-Agent: {p['HTTP'].get_field('User-Agent')}\")\n",
    "\n",
    "        if hasattr(p['HTTP'], 'request_uri'):\n",
    "            # Check if it is a query\n",
    "            if hasattr(p['HTTP'], 'host'):\n",
    "                print(f\"[HOST] http://{p['HTTP'].host}{p['HTTP'].request_uri}\")\n",
    "            else:\n",
    "                print(f\"[ IP ] http://{p['IP'].dst}{p['HTTP'].request_uri}\")\n",
    "\n",
    "    except KeyError as e:\n",
    "        continue"
   ]
  },
  {
   "cell_type": "markdown",
   "metadata": {},
   "source": [
    "---"
   ]
  },
  {
   "cell_type": "markdown",
   "metadata": {},
   "source": [
    "# Transform packets to DataFrame (slow)"
   ]
  },
  {
   "cell_type": "code",
   "execution_count": null,
   "metadata": {},
   "outputs": [],
   "source": [
    "    def packets_to_df(packets):\n",
    "        t_start = perf_counter()\n",
    "        print(f\"[{time.strftime('%H:%M:%S')}] [INFO] Transforming packet capture to DataFrame object ...\")\n",
    "        # save field names from IP/TCP/UDP to be used as columns in DataFrame\n",
    "        ip_fields = [field.name for field in IP().fields_desc]\n",
    "        tcp_fields = [field.name for field in TCP().fields_desc]\n",
    "        udp_fields = [field.name for field in UDP().fields_desc]\n",
    "\n",
    "        # ['version', 'ihl', 'tos', 'len', 'id', 'flags', 'frag', 'ttl', 'proto', 'chksum', 'src', 'dst', 'options', 'time', 'sport', 'dport', 'seq', 'ack', 'dataofs', 'reserved', 'flags', 'window', 'chksum', 'urgptr', 'options', 'payload', 'payload_raw', 'payload_hex']\n",
    "        dataframe_fields = ip_fields + \\\n",
    "                           ['time'] + tcp_fields + ['payload', 'payload_raw', 'payload_hex']\n",
    "\n",
    "        # create empty dataframe with defined column names\n",
    "        df = pd.DataFrame(columns=dataframe_fields)\n",
    "\n",
    "        # iterate over each packet, but load only the IP (layer 3) fields\n",
    "        for packet in packets[IP]:\n",
    "            # list of all values contained in a single packet -> one row of DF\n",
    "            field_values = []\n",
    "\n",
    "            # add all IP fields to dataframe\n",
    "            for field in ip_fields:\n",
    "                if field == 'options':\n",
    "                    # count the number of options defined in IP Header (field name: options)\n",
    "                    field_values.append(len(packet[IP].fields[field]))\n",
    "                else:\n",
    "                    # add the value of a current field into the list\n",
    "                    field_values.append(packet[IP].fields[field])\n",
    "\n",
    "            field_values.append(packet.time)\n",
    "\n",
    "            layer_type = type(packet[IP].payload)\n",
    "\n",
    "            # iterate over TCP/UDP (layer 4) fields\n",
    "            for field in tcp_fields:\n",
    "                try:\n",
    "                    if field == 'options':\n",
    "                        field_values.append(\n",
    "                            len(packet[layer_type].fields[field]))\n",
    "                    else:\n",
    "                        field_values.append(packet[layer_type].fields[field])\n",
    "                except:\n",
    "                    field_values.append(None)\n",
    "\n",
    "            # append different variations of the payload field from ###[ Raw ]### segment\n",
    "            field_values.append(len(packet[layer_type].payload))  # payload\n",
    "            field_values.append(\n",
    "                packet[layer_type].payload.original)  # payload_raw\n",
    "            field_values.append(binascii.hexlify(\n",
    "                packet[layer_type].payload.original))  # payload_hex\n",
    "\n",
    "            # add row to the DF\n",
    "            df_append = pd.DataFrame([field_values], columns=dataframe_fields)\n",
    "            df = pd.concat([df, df_append], axis=0)\n",
    "\n",
    "        # reset Index\n",
    "        df = df.reset_index()\n",
    "        # drop old index column\n",
    "        df = df.drop(columns=\"index\")\n",
    "\n",
    "        t_stop = perf_counter()\n",
    "        print(f\"[{time.strftime('%H:%M:%S')}] [INFO] Packet capture transformed in \" + \"{:.2f}s\".format(t_stop - t_start))\n",
    "\n",
    "        return df"
   ]
  },
  {
   "cell_type": "code",
   "execution_count": null,
   "metadata": {},
   "outputs": [],
   "source": [
    "df_packets = packets_to_df(packets)"
   ]
  },
  {
   "cell_type": "code",
   "execution_count": null,
   "metadata": {},
   "outputs": [],
   "source": [
    "print(\">> Statistics\")\n",
    "packets_count = len(df_packets)\n",
    "print(f\">>> Loaded {packets_count} packets\")\n",
    "\n",
    "top_src_address = df_packets['src'].describe()['top']\n",
    "print(f\">>> Top source address: {top_src_address} \")\n",
    "# print(df['src'].describe(),'\\n\\n')\n",
    "# print(f\">>> Top external source address: {None} \")\n",
    "\n",
    "top_dst_address = df_packets['dst'].describe()['top']\n",
    "print(f\">>> Top destination address: {top_dst_address}\")\n",
    "# print(df['dst'].describe(),\"\\n\\n\")\n",
    "# print(f\">>> Top external destination address: {None} \")\n",
    "\n",
    "unique_src_addresses = df_packets['src'].unique()\n",
    "unique_src_addresses = unique_src_addresses.tolist()\n",
    "external_src_addresses = []\n",
    "for adr in unique_src_addresses:\n",
    "    if not ip_address(adr).is_private:\n",
    "        external_src_addresses.append(adr)\n",
    "unique_dst_addresses = df_packets['dst'].unique()\n",
    "unique_dst_addresses = unique_dst_addresses.tolist()\n",
    "external_dest_addresses = []\n",
    "for adr in unique_dst_addresses:\n",
    "    if not ip_address(adr).is_private:\n",
    "        external_dest_addresses.append(adr)"
   ]
  },
  {
   "cell_type": "markdown",
   "metadata": {},
   "source": [
    "---"
   ]
  }
 ],
 "metadata": {
  "kernelspec": {
   "display_name": "Python 3",
   "language": "python",
   "name": "python3"
  },
  "language_info": {
   "codemirror_mode": {
    "name": "ipython",
    "version": 3
   },
   "file_extension": ".py",
   "mimetype": "text/x-python",
   "name": "python",
   "nbconvert_exporter": "python",
   "pygments_lexer": "ipython3",
   "version": "3.10.8 (main, Oct 12 2022, 00:00:00) [GCC 12.2.1 20220819 (Red Hat 12.2.1-2)]"
  },
  "orig_nbformat": 4,
  "vscode": {
   "interpreter": {
    "hash": "e7370f93d1d0cde622a1f8e1c04877d8463912d04d973331ad4851f04de6915a"
   }
  }
 },
 "nbformat": 4,
 "nbformat_minor": 2
}
